{
 "cells": [
  {
   "cell_type": "code",
   "execution_count": null,
   "id": "6580cf05-db2c-492f-8219-4d2b494112ed",
   "metadata": {},
   "outputs": [],
   "source": [
    "# Dependencies and Setup\n",
    "import pandas as pd\n",
    "from pprint import pprint\n",
    "import matplotlib.pyplot as plt\n",
    "import scipy.stats as st\n",
    "import numpy as np"
   ]
  },
  {
   "cell_type": "code",
   "execution_count": null,
   "id": "655d2329-cf6b-472f-8e93-2df38fa586a5",
   "metadata": {},
   "outputs": [],
   "source": [
    "# File to Load\n",
    "file_to_load = \"Checklist Detail.csv\"\n",
    "# Read projects file and store into Pandas data frame\n",
    "checklists_data = pd.read_csv(file_to_load)\n",
    "checklists_df = pd.DataFrame(checklists_data)\n",
    "checklists_df.head(5)"
   ]
  },
  {
   "cell_type": "code",
   "execution_count": null,
   "id": "cdd7ac5a-fdbe-4e4b-9935-3c91ab6b8394",
   "metadata": {},
   "outputs": [],
   "source": [
    "checklists_df.dtypes"
   ]
  },
  {
   "cell_type": "code",
   "execution_count": null,
   "id": "6015bed2-9a63-46ce-b9c4-7fb88a22b3ef",
   "metadata": {},
   "outputs": [],
   "source": []
  },
  {
   "cell_type": "code",
   "execution_count": null,
   "id": "aada7e92-eb64-4d7f-9474-dbf746b278c8",
   "metadata": {},
   "outputs": [],
   "source": [
    "checklists_df[\"Checklist ID\"].describe()"
   ]
  },
  {
   "cell_type": "code",
   "execution_count": null,
   "id": "55282454-eac3-4160-8201-176feb1eb64d",
   "metadata": {},
   "outputs": [],
   "source": [
    "checklists_df[\"Title\"].unique()"
   ]
  },
  {
   "cell_type": "code",
   "execution_count": null,
   "id": "994bf673-633d-473c-a46c-423156ac25e8",
   "metadata": {
    "tags": []
   },
   "outputs": [],
   "source": [
    "bifso = checklists_df.loc[checklists_df[\"Title\"] == \"(BIFSO) Boots in Field Safety Observation\", :]\n",
    "bifso.head()"
   ]
  },
  {
   "cell_type": "code",
   "execution_count": null,
   "id": "ebc3f282-7dfd-40d9-b345-02539152b55f",
   "metadata": {},
   "outputs": [],
   "source": [
    "bifso[\"Checklist ID\"].unique()"
   ]
  },
  {
   "cell_type": "code",
   "execution_count": null,
   "id": "250ec1cb-58d6-4d56-b1e1-67cb3c49c08e",
   "metadata": {},
   "outputs": [],
   "source": [
    "bifso[\"Checklist ID\"].nunique()"
   ]
  },
  {
   "cell_type": "code",
   "execution_count": null,
   "id": "aaef21b3-6991-47fc-a572-1df6de935958",
   "metadata": {},
   "outputs": [],
   "source": [
    "bifso[\"Checklist ID\"].describe()"
   ]
  },
  {
   "cell_type": "code",
   "execution_count": null,
   "id": "efdf8283-0ea4-401c-ad62-61176b384491",
   "metadata": {},
   "outputs": [],
   "source": [
    "user_check = bifso.loc[(bifso[\"Section Number\"] == 1) & ((bifso[\"Item Number\"] == 2.0) | (bifso[\"Item Number\"] == 3.0)), :]\n",
    "user_check.head()"
   ]
  },
  {
   "cell_type": "code",
   "execution_count": null,
   "id": "482565a3-fd82-4c8f-aaf8-70c438fbb915",
   "metadata": {},
   "outputs": [],
   "source": [
    "user_location = user_check.loc[user_check[\"Item Text\"] == \"Location\", :]\n",
    "user_location.head()"
   ]
  },
  {
   "cell_type": "code",
   "execution_count": null,
   "id": "c29ab985-e328-4fca-8102-9d3e1866a7ed",
   "metadata": {},
   "outputs": [],
   "source": [
    "user_location[\"Item Response\"].unique()"
   ]
  },
  {
   "cell_type": "code",
   "execution_count": null,
   "id": "a4f064d1-3e4f-4f1a-995a-abf6d25e992e",
   "metadata": {},
   "outputs": [],
   "source": [
    "user_location[\"Item Response\"].value_counts().sum()"
   ]
  },
  {
   "cell_type": "code",
   "execution_count": null,
   "id": "afd726fd-21fa-44db-998b-a19343d20873",
   "metadata": {},
   "outputs": [],
   "source": [
    "user_check.groupby(['Checklist ID']).count()"
   ]
  },
  {
   "cell_type": "code",
   "execution_count": null,
   "id": "15e537cd-178e-4102-a73b-f221f188b114",
   "metadata": {},
   "outputs": [],
   "source": [
    "user_check_3 = bifso.loc[(bifso[\"Section Number\"] == 1) & (bifso[\"Item Number\"] == 3.0), :]\n",
    "user_check_3.head()"
   ]
  },
  {
   "cell_type": "code",
   "execution_count": null,
   "id": "d5010e20-a8cb-4a7b-83cb-634c9a764b2f",
   "metadata": {},
   "outputs": [],
   "source": [
    "user_check_3[\"Item Response\"].value_counts(dropna=False)"
   ]
  },
  {
   "cell_type": "code",
   "execution_count": null,
   "id": "0af18f6f-c625-4187-8aec-71a20bb72f67",
   "metadata": {},
   "outputs": [],
   "source": [
    "user_check_3[\"Item Response\"].value_counts(dropna=False).sum()"
   ]
  },
  {
   "cell_type": "code",
   "execution_count": null,
   "id": "63d89bc0-4bab-4107-af8e-5775df1f65ad",
   "metadata": {},
   "outputs": [],
   "source": [
    "user_check_2 = bifso.loc[(bifso[\"Section Number\"] == 1) & (bifso[\"Item Number\"] == 2.0), :]\n",
    "user_check_2.head()"
   ]
  },
  {
   "cell_type": "code",
   "execution_count": null,
   "id": "55ad5aca-509c-4c85-b649-be2850f1d7e9",
   "metadata": {},
   "outputs": [],
   "source": [
    "user_check_2.count()"
   ]
  },
  {
   "cell_type": "code",
   "execution_count": null,
   "id": "a8d87047-535b-405c-b087-06db85a02728",
   "metadata": {},
   "outputs": [],
   "source": [
    "user_check_3.count()"
   ]
  },
  {
   "cell_type": "code",
   "execution_count": null,
   "id": "4827acc9-a051-4b15-8e96-efc74ffdcaba",
   "metadata": {},
   "outputs": [],
   "source": [
    "user_check_2_3_merge = pd.merge(user_check_2, user_check_3, on=(\"Checklist ID\"), how=\"outer\")\n",
    "# capturelasttimepoint_merge = capturelasttimepoint_merge.sort_values(by=['Drug Regimen'])\n",
    "user_check_2_3_merge.head()"
   ]
  },
  {
   "cell_type": "code",
   "execution_count": null,
   "id": "3887d084-6d86-4bf1-aef5-bc36692f8eb4",
   "metadata": {},
   "outputs": [],
   "source": [
    "user_check_2_3_selected = user_check_2_3_merge[[\"Checklist ID\", \"Title_x\", \"Checklist Status_x\", \"Location_x\", \"Section Number_x\", \"Item Number_x\", \"Item Number_y\", \"Item Text_x\", \"Item Text_y\", \"Item Response_x\", \"Item Response_y\", \"Item Comments_x\"]]\n",
    "user_check_2_3_selected"
   ]
  },
  {
   "cell_type": "code",
   "execution_count": null,
   "id": "4a2495e1-6d8f-4b20-b919-7204e226944c",
   "metadata": {},
   "outputs": [],
   "source": [
    "# user_check_2_3_merge[[\"Title_x\", \"Checklist Status_x\", \"Template Name_x\", \"Type_x\", \"Location_x\", \"Assigned to_x\", \"Company_x\", \"Creator_x\", \"Date created_x\", \"Section Number_x\", \"Section Name_x\", \"Item Number_x\", \"Item Number_y\", \"Item Text_x\", \"Item Text_y\", \"Item Response_x\", \"Item Response_y\", \"Item Comments_x\", \"Issue Count_x\" ]]"
   ]
  },
  {
   "cell_type": "code",
   "execution_count": null,
   "id": "dee4e230-d419-45c1-b28c-95b4004bc6c7",
   "metadata": {},
   "outputs": [],
   "source": [
    "user_check_2_3_selected.dtypes"
   ]
  },
  {
   "cell_type": "code",
   "execution_count": null,
   "id": "e12ea7a9-8806-4673-acc8-4cbff49a1497",
   "metadata": {},
   "outputs": [],
   "source": [
    "user_check_2_3_selected_lastline = user_check_2_3_selected.iloc[-1:]\n",
    "user_check_2_3_selected_lastline"
   ]
  },
  {
   "cell_type": "code",
   "execution_count": null,
   "id": "1f9fea4a-02ab-45aa-add4-3568bb14d03b",
   "metadata": {},
   "outputs": [],
   "source": [
    "user_check_2_3_selected_lastline['Location_x'].dtypes"
   ]
  },
  {
   "cell_type": "code",
   "execution_count": null,
   "id": "cc03dcdf-058c-46a5-a722-9800cd1ab0e6",
   "metadata": {},
   "outputs": [],
   "source": [
    "# Steps below are important for exploding!\n",
    "type(user_check_2_3_selected_lastline['Item Response_y'])"
   ]
  },
  {
   "cell_type": "code",
   "execution_count": null,
   "id": "a264a2f4-d1f6-4820-b20d-a301724d6642",
   "metadata": {},
   "outputs": [],
   "source": [
    "user_check_2_3_selected_stripped = user_check_2_3_selected['Item Response_y'].str.strip('][')\n",
    "user_check_2_3_selected_stripped "
   ]
  },
  {
   "cell_type": "code",
   "execution_count": null,
   "id": "6dcbe56f-239a-4991-985c-9b6fee4bfe60",
   "metadata": {},
   "outputs": [],
   "source": [
    "user_check_2_3_selected_stripped_str = user_check_2_3_selected_stripped.map(str)\n",
    "type(user_check_2_3_selected_stripped_str)"
   ]
  },
  {
   "cell_type": "code",
   "execution_count": null,
   "id": "2ed75759-a729-40ea-9e94-42b1a55ac226",
   "metadata": {},
   "outputs": [],
   "source": [
    "user_check_2_3_selected_stripped_str_split = user_check_2_3_selected_stripped_str.str.split(\", \")\n",
    "user_check_2_3_selected_stripped_str_split\n",
    "# type(user_check_2_3_selected_stripped_str_split)"
   ]
  },
  {
   "cell_type": "code",
   "execution_count": null,
   "id": "f371c42a-173b-4833-a11d-30fe4fd64997",
   "metadata": {},
   "outputs": [],
   "source": [
    "user_check_2_3_selected_stripped_str_split.explode()"
   ]
  },
  {
   "cell_type": "code",
   "execution_count": null,
   "id": "c59f8d1d-5a62-4bc4-916d-b8d9125da5ba",
   "metadata": {},
   "outputs": [],
   "source": [
    "user_check_2_3_selected_stripped_str_split_explode = user_check_2_3_selected_stripped_str_split.explode()\n",
    "user_check_2_3_selected_stripped_str_split_explode"
   ]
  },
  {
   "cell_type": "code",
   "execution_count": null,
   "id": "20ca3da7-eb83-45f6-aaa2-32088de512cd",
   "metadata": {},
   "outputs": [],
   "source": [
    "user_check_2_3_selected_stripped_str_split_explode_df = pd.DataFrame(user_check_2_3_selected_stripped_str_split_explode)\n",
    "user_check_2_3_selected_stripped_str_split_explode_df = user_check_2_3_selected_stripped_str_split_explode_df.rename(columns={\"Item Response_y\": \"Item Response_final\"})\n",
    "user_check_2_3_selected_stripped_str_split_explode_df"
   ]
  },
  {
   "cell_type": "code",
   "execution_count": null,
   "id": "6f65f284-40b5-4b58-bbb9-c094acc3a63d",
   "metadata": {},
   "outputs": [],
   "source": [
    "# user_check_2_3_selected_final = pd.merge(user_check_2_3_selected_stripped_str_split_explode_df, user_check_2_3_selected, on=index, how=\"outer\")"
   ]
  },
  {
   "cell_type": "code",
   "execution_count": null,
   "id": "3d3360a4-f1dc-4609-bb3a-0127c9be0b71",
   "metadata": {},
   "outputs": [],
   "source": [
    "user_check_2_3_selected_stripped_str_split_explode_final = user_check_2_3_selected_stripped_str_split_explode_df.join(user_check_2_3_selected, how='outer')\n",
    "user_check_2_3_selected_stripped_str_split_explode_final"
   ]
  },
  {
   "cell_type": "code",
   "execution_count": null,
   "id": "539b2498-a07a-4936-8b9d-6359bacdf782",
   "metadata": {},
   "outputs": [],
   "source": [
    "user_check_2_3_selected_stripped_str_split_explode_final.dtypes"
   ]
  },
  {
   "cell_type": "code",
   "execution_count": null,
   "id": "eb46e647-3a30-434d-8d02-868d07726c4b",
   "metadata": {},
   "outputs": [],
   "source": []
  },
  {
   "cell_type": "code",
   "execution_count": null,
   "id": "3393c064-8554-4ce5-925c-bc5b44fb2346",
   "metadata": {},
   "outputs": [],
   "source": []
  },
  {
   "cell_type": "code",
   "execution_count": null,
   "id": "6df0831e-30e1-450a-958e-decb26830d58",
   "metadata": {},
   "outputs": [],
   "source": [
    "user_check_2_3_selected_stripped_str_split_explode_final[\"Item Response_final\"].plot.pie\n",
    "plt.show()"
   ]
  },
  {
   "cell_type": "code",
   "execution_count": null,
   "id": "6217e345-071c-4261-9cbb-85ea765e3fb7",
   "metadata": {},
   "outputs": [],
   "source": [
    "user_check_2_3_selected_stripped_str_split_explode_final[\"Item Response_final\"].value_counts()"
   ]
  },
  {
   "cell_type": "code",
   "execution_count": null,
   "id": "a75651b6-b51b-4f20-ae32-ff0af903c6c9",
   "metadata": {},
   "outputs": [],
   "source": [
    "user_check_2_3_selected_stripped_str_split_explode_final[\"Item Response_final\"].value_counts().plot(kind=\"pie\", autopct=\"%.1f%%\", shadow=True, subplots=True, title=['Options Distribution'], legend=None, figsize=(10,20))\n",
    "plt.ylabel(\"\")\n",
    "plt.show()"
   ]
  },
  {
   "cell_type": "code",
   "execution_count": null,
   "id": "3cbc4290-ef48-41f9-9504-2ebe67c5aa52",
   "metadata": {},
   "outputs": [],
   "source": [
    "user_check_2_3_selected_stripped_str_split_explode_final[\"Item Response_final\"].unique()"
   ]
  },
  {
   "cell_type": "code",
   "execution_count": null,
   "id": "a62f417d-69c7-4425-b87f-d0770eb191e6",
   "metadata": {},
   "outputs": [],
   "source": [
    "bifso_check_those_that_apply_all = pd.DataFrame(user_check_2_3_selected_stripped_str_split_explode_final[\"Item Response_final\"].unique(), columns =['item_response_final'])\n",
    "bifso_check_those_that_apply_all"
   ]
  },
  {
   "cell_type": "code",
   "execution_count": null,
   "id": "14854f68-22cb-4b93-a27e-7bcaa66a3f15",
   "metadata": {},
   "outputs": [],
   "source": [
    "bifso_check_those_that_apply_all = bifso_check_those_that_apply_all.iloc[1: , :]\n",
    "bifso_check_those_that_apply_all"
   ]
  },
  {
   "cell_type": "code",
   "execution_count": null,
   "id": "d1741eca-ff13-4db6-9f25-404737df3074",
   "metadata": {},
   "outputs": [],
   "source": []
  },
  {
   "cell_type": "code",
   "execution_count": null,
   "id": "821ed963-83e1-42c7-9a74-3cc65fb3a346",
   "metadata": {},
   "outputs": [],
   "source": []
  },
  {
   "cell_type": "code",
   "execution_count": null,
   "id": "60afe29c-f8c2-4f44-aa97-a0f2ab36bc78",
   "metadata": {},
   "outputs": [],
   "source": [
    "user_check_2_3_selected_lastline.iloc[-1,10]"
   ]
  },
  {
   "cell_type": "code",
   "execution_count": null,
   "id": "7942fcb2-dfd6-4519-ab10-8965fa514ca6",
   "metadata": {},
   "outputs": [],
   "source": []
  },
  {
   "cell_type": "code",
   "execution_count": null,
   "id": "7c3dbfdc-1e6a-44f0-9f0e-a6ad869a1455",
   "metadata": {},
   "outputs": [],
   "source": [
    "user_check_2_3_selected_stripped_str_split_explode_final"
   ]
  },
  {
   "cell_type": "code",
   "execution_count": null,
   "id": "f04415d6-132a-40fe-a4c0-ed2a6fe302a5",
   "metadata": {},
   "outputs": [],
   "source": [
    "user_check_2_3_selected_stripped_str_split_explode_final[\"Location_x\"].value_counts(dropna=False)"
   ]
  },
  {
   "cell_type": "code",
   "execution_count": null,
   "id": "9ad43b08-86cd-4d4a-a68e-18f38d5645e3",
   "metadata": {},
   "outputs": [],
   "source": [
    "user_check_2_3_selected_stripped_str_split_explode_final_groupby = user_check_2_3_selected_stripped_str_split_explode_final.groupby(['Location_x', 'Item Response_final']).count()\n",
    "user_check_2_3_selected_stripped_str_split_explode_final_groupby"
   ]
  },
  {
   "cell_type": "code",
   "execution_count": null,
   "id": "0fe97516-08f2-42e4-82a4-14cca028fb4e",
   "metadata": {},
   "outputs": [],
   "source": [
    "user_check_2_3_selected_stripped_str_split_explode_final_groupby['Checklist ID'].plot(kind=\"bar\", subplots=True, title=['Options Distribution'], legend=None, figsize=(30,30))\n",
    "plt.xticks(rotation=90)\n",
    "plt.ylabel(\"\")\n",
    "plt.show()"
   ]
  },
  {
   "cell_type": "code",
   "execution_count": null,
   "id": "da973687-496f-477b-a5ab-fef2315d1cf9",
   "metadata": {},
   "outputs": [],
   "source": [
    "final_plot = user_check_2_3_selected_stripped_str_split_explode_final_groupby[['Checklist ID']]\n",
    "final_plot"
   ]
  },
  {
   "cell_type": "code",
   "execution_count": null,
   "id": "3df1fcd5-b0b4-4122-ac78-b9411627f81b",
   "metadata": {},
   "outputs": [],
   "source": [
    "final_plot_unstack = final_plot['Checklist ID'].unstack()\n",
    "final_plot_unstack "
   ]
  },
  {
   "cell_type": "code",
   "execution_count": null,
   "id": "989d01ab-2eec-46ce-8169-ff44502a1328",
   "metadata": {},
   "outputs": [],
   "source": [
    "categories = final_plot_unstack.columns"
   ]
  },
  {
   "cell_type": "code",
   "execution_count": null,
   "id": "4d6214ed-73a0-4fd2-92aa-e49a386dfc26",
   "metadata": {},
   "outputs": [],
   "source": [
    "categories"
   ]
  },
  {
   "cell_type": "code",
   "execution_count": null,
   "id": "c0c8e3d5-5c1f-4d02-9cc7-15e806d51150",
   "metadata": {},
   "outputs": [],
   "source": [
    "final_plot_unstack['total']=final_plot_unstack.sum(axis=1)"
   ]
  },
  {
   "cell_type": "code",
   "execution_count": null,
   "id": "2e1d5545-2495-4b4c-9295-8081b5406635",
   "metadata": {},
   "outputs": [],
   "source": [
    "final_plot_unstack"
   ]
  },
  {
   "cell_type": "code",
   "execution_count": null,
   "id": "1b7f3578-fc10-4cad-9309-81e89dd2e278",
   "metadata": {},
   "outputs": [],
   "source": []
  },
  {
   "cell_type": "code",
   "execution_count": null,
   "id": "7c5c5f8a-4bfe-4ff4-aeca-5d83243374d4",
   "metadata": {},
   "outputs": [],
   "source": [
    "final_plot_unstack[categories].plot(kind='bar',stacked=True, figsize=(20,10))\n",
    "plt.xticks(rotation=45, rotation_mode=\"anchor\", ha='right')\n",
    "plt.ylabel(\"\")\n",
    "plt.show()"
   ]
  },
  {
   "cell_type": "code",
   "execution_count": null,
   "id": "9f9acc89-d972-48f3-84f7-687a8bbe57ed",
   "metadata": {},
   "outputs": [],
   "source": []
  }
 ],
 "metadata": {
  "kernelspec": {
   "display_name": "Python 3",
   "language": "python",
   "name": "python3"
  },
  "language_info": {
   "codemirror_mode": {
    "name": "ipython",
    "version": 3
   },
   "file_extension": ".py",
   "mimetype": "text/x-python",
   "name": "python",
   "nbconvert_exporter": "python",
   "pygments_lexer": "ipython3",
   "version": "3.8.10"
  }
 },
 "nbformat": 4,
 "nbformat_minor": 5
}
